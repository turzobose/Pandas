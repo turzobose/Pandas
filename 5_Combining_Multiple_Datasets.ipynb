{
  "nbformat": 4,
  "nbformat_minor": 0,
  "metadata": {
    "colab": {
      "name": "5. Combining Multiple Datasets.ipynb",
      "provenance": [],
      "authorship_tag": "ABX9TyPD3xgQ5kbB+HhQFRS5cPKT"
    },
    "kernelspec": {
      "name": "python3",
      "display_name": "Python 3"
    }
  },
  "cells": [
    {
      "cell_type": "code",
      "metadata": {
        "colab": {
          "base_uri": "https://localhost:8080/"
        },
        "id": "aUGwMWjWWnHj",
        "outputId": "5ea550ac-9134-4c77-b4fd-3e80eab566f1"
      },
      "source": [
        "from google.colab import drive\n",
        "drive.mount('/content/gdrive')"
      ],
      "execution_count": 1,
      "outputs": [
        {
          "output_type": "stream",
          "text": [
            "Mounted at /content/gdrive\n"
          ],
          "name": "stdout"
        }
      ]
    },
    {
      "cell_type": "code",
      "metadata": {
        "colab": {
          "base_uri": "https://localhost:8080/",
          "height": 204
        },
        "id": "7ZhSJLQMWb9Z",
        "outputId": "4cbe64fc-fac8-44d7-ecb3-e02cafc8053d"
      },
      "source": [
        "import pandas as pd\n",
        "import numpy as np\n",
        "\n",
        "df = pd.read_csv('/content/gdrive/MyDrive/Colab Notebooks/datasets/USMinWage.csv')\n",
        "\n",
        "df.head()"
      ],
      "execution_count": 2,
      "outputs": [
        {
          "output_type": "execute_result",
          "data": {
            "text/html": [
              "<div>\n",
              "<style scoped>\n",
              "    .dataframe tbody tr th:only-of-type {\n",
              "        vertical-align: middle;\n",
              "    }\n",
              "\n",
              "    .dataframe tbody tr th {\n",
              "        vertical-align: top;\n",
              "    }\n",
              "\n",
              "    .dataframe thead th {\n",
              "        text-align: right;\n",
              "    }\n",
              "</style>\n",
              "<table border=\"1\" class=\"dataframe\">\n",
              "  <thead>\n",
              "    <tr style=\"text-align: right;\">\n",
              "      <th></th>\n",
              "      <th>Unnamed: 0</th>\n",
              "      <th>Year</th>\n",
              "      <th>State</th>\n",
              "      <th>Table_Data</th>\n",
              "      <th>Footnote</th>\n",
              "      <th>High.Value</th>\n",
              "      <th>Low.Value</th>\n",
              "      <th>CPI.Average</th>\n",
              "      <th>High.2018</th>\n",
              "      <th>Low.2018</th>\n",
              "    </tr>\n",
              "  </thead>\n",
              "  <tbody>\n",
              "    <tr>\n",
              "      <th>0</th>\n",
              "      <td>0</td>\n",
              "      <td>1968</td>\n",
              "      <td>Alabama</td>\n",
              "      <td>...</td>\n",
              "      <td>NaN</td>\n",
              "      <td>0.00000</td>\n",
              "      <td>0.00000</td>\n",
              "      <td>34.783333</td>\n",
              "      <td>0.00</td>\n",
              "      <td>0.00</td>\n",
              "    </tr>\n",
              "    <tr>\n",
              "      <th>1</th>\n",
              "      <td>1</td>\n",
              "      <td>1968</td>\n",
              "      <td>Alaska</td>\n",
              "      <td>2.10</td>\n",
              "      <td>NaN</td>\n",
              "      <td>2.10000</td>\n",
              "      <td>2.10000</td>\n",
              "      <td>34.783333</td>\n",
              "      <td>15.12</td>\n",
              "      <td>15.12</td>\n",
              "    </tr>\n",
              "    <tr>\n",
              "      <th>2</th>\n",
              "      <td>2</td>\n",
              "      <td>1968</td>\n",
              "      <td>Arizona</td>\n",
              "      <td>18.72 - 26.40/wk(b)</td>\n",
              "      <td>(b)</td>\n",
              "      <td>0.66000</td>\n",
              "      <td>0.46800</td>\n",
              "      <td>34.783333</td>\n",
              "      <td>4.75</td>\n",
              "      <td>3.37</td>\n",
              "    </tr>\n",
              "    <tr>\n",
              "      <th>3</th>\n",
              "      <td>3</td>\n",
              "      <td>1968</td>\n",
              "      <td>Arkansas</td>\n",
              "      <td>1.25/day(b)</td>\n",
              "      <td>(b)</td>\n",
              "      <td>0.15625</td>\n",
              "      <td>0.15625</td>\n",
              "      <td>34.783333</td>\n",
              "      <td>1.12</td>\n",
              "      <td>1.12</td>\n",
              "    </tr>\n",
              "    <tr>\n",
              "      <th>4</th>\n",
              "      <td>4</td>\n",
              "      <td>1968</td>\n",
              "      <td>California</td>\n",
              "      <td>1.65(b)</td>\n",
              "      <td>(b)</td>\n",
              "      <td>1.65000</td>\n",
              "      <td>1.65000</td>\n",
              "      <td>34.783333</td>\n",
              "      <td>11.88</td>\n",
              "      <td>11.88</td>\n",
              "    </tr>\n",
              "  </tbody>\n",
              "</table>\n",
              "</div>"
            ],
            "text/plain": [
              "   Unnamed: 0  Year       State  ... CPI.Average High.2018  Low.2018\n",
              "0           0  1968     Alabama  ...   34.783333      0.00      0.00\n",
              "1           1  1968      Alaska  ...   34.783333     15.12     15.12\n",
              "2           2  1968     Arizona  ...   34.783333      4.75      3.37\n",
              "3           3  1968    Arkansas  ...   34.783333      1.12      1.12\n",
              "4           4  1968  California  ...   34.783333     11.88     11.88\n",
              "\n",
              "[5 rows x 10 columns]"
            ]
          },
          "metadata": {
            "tags": []
          },
          "execution_count": 2
        }
      ]
    },
    {
      "cell_type": "code",
      "metadata": {
        "id": "S4qx_qxDXGnm"
      },
      "source": [
        ""
      ],
      "execution_count": null,
      "outputs": []
    }
  ]
}