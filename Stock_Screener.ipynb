{
  "nbformat": 4,
  "nbformat_minor": 0,
  "metadata": {
    "colab": {
      "name": "Stock_Screener.ipynb",
      "provenance": [],
      "authorship_tag": "ABX9TyOPsUQ10cFk2jN851yC8M9g"
    },
    "kernelspec": {
      "name": "python3",
      "display_name": "Python 3"
    }
  },
  "cells": [
    {
      "cell_type": "code",
      "metadata": {
        "id": "VlWXR973IjqF"
      },
      "source": [
        "#Step 1: Object, Class, Type\n",
        "#Step 2: Methods\n",
        "#Step 3: Programming Logics\n",
        "#Step 4: Packages and Libraries"
      ],
      "execution_count": null,
      "outputs": []
    },
    {
      "cell_type": "code",
      "metadata": {
        "colab": {
          "base_uri": "https://localhost:8080/",
          "height": 450
        },
        "id": "OuU0_cIjLjR1",
        "outputId": "c9f84a97-e9f1-4fee-bc7c-3ecde0020d55"
      },
      "source": [
        "from pandas_datareader import data\n",
        "import pandas as pd\n",
        "\n",
        "data.DataReader(\"TSLA\",\"yahoo\", \"2019-11-25\", \"2020-11-25\")"
      ],
      "execution_count": null,
      "outputs": [
        {
          "output_type": "execute_result",
          "data": {
            "text/html": [
              "<div>\n",
              "<style scoped>\n",
              "    .dataframe tbody tr th:only-of-type {\n",
              "        vertical-align: middle;\n",
              "    }\n",
              "\n",
              "    .dataframe tbody tr th {\n",
              "        vertical-align: top;\n",
              "    }\n",
              "\n",
              "    .dataframe thead th {\n",
              "        text-align: right;\n",
              "    }\n",
              "</style>\n",
              "<table border=\"1\" class=\"dataframe\">\n",
              "  <thead>\n",
              "    <tr style=\"text-align: right;\">\n",
              "      <th></th>\n",
              "      <th>High</th>\n",
              "      <th>Low</th>\n",
              "      <th>Open</th>\n",
              "      <th>Close</th>\n",
              "      <th>Volume</th>\n",
              "      <th>Adj Close</th>\n",
              "    </tr>\n",
              "    <tr>\n",
              "      <th>Date</th>\n",
              "      <th></th>\n",
              "      <th></th>\n",
              "      <th></th>\n",
              "      <th></th>\n",
              "      <th></th>\n",
              "      <th></th>\n",
              "    </tr>\n",
              "  </thead>\n",
              "  <tbody>\n",
              "    <tr>\n",
              "      <th>2019-11-25</th>\n",
              "      <td>68.914001</td>\n",
              "      <td>66.891998</td>\n",
              "      <td>68.863998</td>\n",
              "      <td>67.267998</td>\n",
              "      <td>61697500.0</td>\n",
              "      <td>67.267998</td>\n",
              "    </tr>\n",
              "    <tr>\n",
              "      <th>2019-11-26</th>\n",
              "      <td>67.099998</td>\n",
              "      <td>65.419998</td>\n",
              "      <td>67.054001</td>\n",
              "      <td>65.783997</td>\n",
              "      <td>39737000.0</td>\n",
              "      <td>65.783997</td>\n",
              "    </tr>\n",
              "    <tr>\n",
              "      <th>2019-11-27</th>\n",
              "      <td>66.786003</td>\n",
              "      <td>65.713997</td>\n",
              "      <td>66.223999</td>\n",
              "      <td>66.258003</td>\n",
              "      <td>27778000.0</td>\n",
              "      <td>66.258003</td>\n",
              "    </tr>\n",
              "    <tr>\n",
              "      <th>2019-11-29</th>\n",
              "      <td>66.251999</td>\n",
              "      <td>65.500000</td>\n",
              "      <td>66.222000</td>\n",
              "      <td>65.987999</td>\n",
              "      <td>12328000.0</td>\n",
              "      <td>65.987999</td>\n",
              "    </tr>\n",
              "    <tr>\n",
              "      <th>2019-12-02</th>\n",
              "      <td>67.276001</td>\n",
              "      <td>65.737999</td>\n",
              "      <td>65.879997</td>\n",
              "      <td>66.973999</td>\n",
              "      <td>30372500.0</td>\n",
              "      <td>66.973999</td>\n",
              "    </tr>\n",
              "    <tr>\n",
              "      <th>...</th>\n",
              "      <td>...</td>\n",
              "      <td>...</td>\n",
              "      <td>...</td>\n",
              "      <td>...</td>\n",
              "      <td>...</td>\n",
              "      <td>...</td>\n",
              "    </tr>\n",
              "    <tr>\n",
              "      <th>2020-11-18</th>\n",
              "      <td>496.000000</td>\n",
              "      <td>443.500000</td>\n",
              "      <td>448.350006</td>\n",
              "      <td>486.640015</td>\n",
              "      <td>78044000.0</td>\n",
              "      <td>486.640015</td>\n",
              "    </tr>\n",
              "    <tr>\n",
              "      <th>2020-11-19</th>\n",
              "      <td>508.609985</td>\n",
              "      <td>487.570007</td>\n",
              "      <td>492.000000</td>\n",
              "      <td>499.269989</td>\n",
              "      <td>62475300.0</td>\n",
              "      <td>499.269989</td>\n",
              "    </tr>\n",
              "    <tr>\n",
              "      <th>2020-11-20</th>\n",
              "      <td>502.500000</td>\n",
              "      <td>489.059998</td>\n",
              "      <td>497.989990</td>\n",
              "      <td>489.609985</td>\n",
              "      <td>32807300.0</td>\n",
              "      <td>489.609985</td>\n",
              "    </tr>\n",
              "    <tr>\n",
              "      <th>2020-11-23</th>\n",
              "      <td>526.000000</td>\n",
              "      <td>501.790009</td>\n",
              "      <td>503.500000</td>\n",
              "      <td>521.849976</td>\n",
              "      <td>50260300.0</td>\n",
              "      <td>521.849976</td>\n",
              "    </tr>\n",
              "    <tr>\n",
              "      <th>2020-11-24</th>\n",
              "      <td>559.989990</td>\n",
              "      <td>526.200012</td>\n",
              "      <td>540.400024</td>\n",
              "      <td>555.380005</td>\n",
              "      <td>53294100.0</td>\n",
              "      <td>555.380005</td>\n",
              "    </tr>\n",
              "  </tbody>\n",
              "</table>\n",
              "<p>253 rows × 6 columns</p>\n",
              "</div>"
            ],
            "text/plain": [
              "                  High         Low  ...      Volume   Adj Close\n",
              "Date                                ...                        \n",
              "2019-11-25   68.914001   66.891998  ...  61697500.0   67.267998\n",
              "2019-11-26   67.099998   65.419998  ...  39737000.0   65.783997\n",
              "2019-11-27   66.786003   65.713997  ...  27778000.0   66.258003\n",
              "2019-11-29   66.251999   65.500000  ...  12328000.0   65.987999\n",
              "2019-12-02   67.276001   65.737999  ...  30372500.0   66.973999\n",
              "...                ...         ...  ...         ...         ...\n",
              "2020-11-18  496.000000  443.500000  ...  78044000.0  486.640015\n",
              "2020-11-19  508.609985  487.570007  ...  62475300.0  499.269989\n",
              "2020-11-20  502.500000  489.059998  ...  32807300.0  489.609985\n",
              "2020-11-23  526.000000  501.790009  ...  50260300.0  521.849976\n",
              "2020-11-24  559.989990  526.200012  ...  53294100.0  555.380005\n",
              "\n",
              "[253 rows x 6 columns]"
            ]
          },
          "metadata": {
            "tags": []
          },
          "execution_count": 13
        }
      ]
    },
    {
      "cell_type": "code",
      "metadata": {
        "colab": {
          "base_uri": "https://localhost:8080/"
        },
        "id": "SKluJ120OXM6",
        "outputId": "c4c1cc8b-9f16-41ae-f338-520ecddd3702"
      },
      "source": [
        "from datetime import datetime\n",
        "\n",
        "end = datetime.now()\n",
        "start = datetime(end.year - 1, end.month, end.day)"
      ],
      "execution_count": null,
      "outputs": [
        {
          "output_type": "stream",
          "text": [
            "2019-11-25 00:00:00\n"
          ],
          "name": "stdout"
        }
      ]
    },
    {
      "cell_type": "code",
      "metadata": {
        "id": "894EVSUTPBn1"
      },
      "source": [
        "tesla = data.DataReader(\"TSLA\",\"yahoo\", start, end)"
      ],
      "execution_count": null,
      "outputs": []
    },
    {
      "cell_type": "code",
      "metadata": {
        "colab": {
          "base_uri": "https://localhost:8080/"
        },
        "id": "SqjXOCkLP580",
        "outputId": "f0193a57-d5f7-4cd0-a833-97bed0e64711"
      },
      "source": [
        "tesla.info()"
      ],
      "execution_count": null,
      "outputs": [
        {
          "output_type": "stream",
          "text": [
            "<class 'pandas.core.frame.DataFrame'>\n",
            "DatetimeIndex: 253 entries, 2019-11-25 to 2020-11-24\n",
            "Data columns (total 6 columns):\n",
            " #   Column     Non-Null Count  Dtype  \n",
            "---  ------     --------------  -----  \n",
            " 0   High       253 non-null    float64\n",
            " 1   Low        253 non-null    float64\n",
            " 2   Open       253 non-null    float64\n",
            " 3   Close      253 non-null    float64\n",
            " 4   Volume     253 non-null    float64\n",
            " 5   Adj Close  253 non-null    float64\n",
            "dtypes: float64(6)\n",
            "memory usage: 13.8 KB\n"
          ],
          "name": "stdout"
        }
      ]
    },
    {
      "cell_type": "code",
      "metadata": {
        "colab": {
          "base_uri": "https://localhost:8080/",
          "height": 297
        },
        "id": "3DyeYHVwQRc9",
        "outputId": "d1df1613-868b-4897-c9e3-f00ce275bc11"
      },
      "source": [
        "tesla.describe()"
      ],
      "execution_count": null,
      "outputs": [
        {
          "output_type": "execute_result",
          "data": {
            "text/html": [
              "<div>\n",
              "<style scoped>\n",
              "    .dataframe tbody tr th:only-of-type {\n",
              "        vertical-align: middle;\n",
              "    }\n",
              "\n",
              "    .dataframe tbody tr th {\n",
              "        vertical-align: top;\n",
              "    }\n",
              "\n",
              "    .dataframe thead th {\n",
              "        text-align: right;\n",
              "    }\n",
              "</style>\n",
              "<table border=\"1\" class=\"dataframe\">\n",
              "  <thead>\n",
              "    <tr style=\"text-align: right;\">\n",
              "      <th></th>\n",
              "      <th>High</th>\n",
              "      <th>Low</th>\n",
              "      <th>Open</th>\n",
              "      <th>Close</th>\n",
              "      <th>Volume</th>\n",
              "      <th>Adj Close</th>\n",
              "    </tr>\n",
              "  </thead>\n",
              "  <tbody>\n",
              "    <tr>\n",
              "      <th>count</th>\n",
              "      <td>253.000000</td>\n",
              "      <td>253.000000</td>\n",
              "      <td>253.000000</td>\n",
              "      <td>253.000000</td>\n",
              "      <td>2.530000e+02</td>\n",
              "      <td>253.000000</td>\n",
              "    </tr>\n",
              "    <tr>\n",
              "      <th>mean</th>\n",
              "      <td>241.318728</td>\n",
              "      <td>227.746862</td>\n",
              "      <td>234.624507</td>\n",
              "      <td>234.938750</td>\n",
              "      <td>6.544921e+07</td>\n",
              "      <td>234.938750</td>\n",
              "    </tr>\n",
              "    <tr>\n",
              "      <th>std</th>\n",
              "      <td>139.174781</td>\n",
              "      <td>131.678914</td>\n",
              "      <td>135.645960</td>\n",
              "      <td>135.808580</td>\n",
              "      <td>4.257992e+07</td>\n",
              "      <td>135.808580</td>\n",
              "    </tr>\n",
              "    <tr>\n",
              "      <th>min</th>\n",
              "      <td>66.251999</td>\n",
              "      <td>65.419998</td>\n",
              "      <td>65.879997</td>\n",
              "      <td>65.783997</td>\n",
              "      <td>7.309300e+06</td>\n",
              "      <td>65.783997</td>\n",
              "    </tr>\n",
              "    <tr>\n",
              "      <th>25%</th>\n",
              "      <td>118.900002</td>\n",
              "      <td>111.820000</td>\n",
              "      <td>116.178001</td>\n",
              "      <td>114.599998</td>\n",
              "      <td>3.286850e+07</td>\n",
              "      <td>114.599998</td>\n",
              "    </tr>\n",
              "    <tr>\n",
              "      <th>50%</th>\n",
              "      <td>179.587997</td>\n",
              "      <td>171.688004</td>\n",
              "      <td>176.591995</td>\n",
              "      <td>176.591995</td>\n",
              "      <td>6.011250e+07</td>\n",
              "      <td>176.591995</td>\n",
              "    </tr>\n",
              "    <tr>\n",
              "      <th>75%</th>\n",
              "      <td>399.500000</td>\n",
              "      <td>369.022003</td>\n",
              "      <td>380.950012</td>\n",
              "      <td>380.359985</td>\n",
              "      <td>8.690350e+07</td>\n",
              "      <td>380.359985</td>\n",
              "    </tr>\n",
              "    <tr>\n",
              "      <th>max</th>\n",
              "      <td>559.989990</td>\n",
              "      <td>526.200012</td>\n",
              "      <td>540.400024</td>\n",
              "      <td>555.380005</td>\n",
              "      <td>3.046940e+08</td>\n",
              "      <td>555.380005</td>\n",
              "    </tr>\n",
              "  </tbody>\n",
              "</table>\n",
              "</div>"
            ],
            "text/plain": [
              "             High         Low        Open       Close        Volume   Adj Close\n",
              "count  253.000000  253.000000  253.000000  253.000000  2.530000e+02  253.000000\n",
              "mean   241.318728  227.746862  234.624507  234.938750  6.544921e+07  234.938750\n",
              "std    139.174781  131.678914  135.645960  135.808580  4.257992e+07  135.808580\n",
              "min     66.251999   65.419998   65.879997   65.783997  7.309300e+06   65.783997\n",
              "25%    118.900002  111.820000  116.178001  114.599998  3.286850e+07  114.599998\n",
              "50%    179.587997  171.688004  176.591995  176.591995  6.011250e+07  176.591995\n",
              "75%    399.500000  369.022003  380.950012  380.359985  8.690350e+07  380.359985\n",
              "max    559.989990  526.200012  540.400024  555.380005  3.046940e+08  555.380005"
            ]
          },
          "metadata": {
            "tags": []
          },
          "execution_count": 27
        }
      ]
    },
    {
      "cell_type": "code",
      "metadata": {
        "colab": {
          "base_uri": "https://localhost:8080/"
        },
        "id": "YCH6UOPwQbsb",
        "outputId": "ab7d37cd-2fa9-41cf-cf88-7e9527b16231"
      },
      "source": [
        "tesla.max().round(2)"
      ],
      "execution_count": null,
      "outputs": [
        {
          "output_type": "execute_result",
          "data": {
            "text/plain": [
              "High         5.599900e+02\n",
              "Low          5.262000e+02\n",
              "Open         5.404000e+02\n",
              "Close        5.553800e+02\n",
              "Volume       3.046940e+08\n",
              "Adj Close    5.553800e+02\n",
              "dtype: float64"
            ]
          },
          "metadata": {
            "tags": []
          },
          "execution_count": 33
        }
      ]
    },
    {
      "cell_type": "code",
      "metadata": {
        "colab": {
          "base_uri": "https://localhost:8080/"
        },
        "id": "EsMSkk1CQpIP",
        "outputId": "ed480f49-0250-4ca5-9907-868068c9f287"
      },
      "source": [
        "tesla.idxmin()"
      ],
      "execution_count": null,
      "outputs": [
        {
          "output_type": "execute_result",
          "data": {
            "text/plain": [
              "High        2019-11-29\n",
              "Low         2019-11-26\n",
              "Open        2019-12-02\n",
              "Close       2019-11-26\n",
              "Volume      2020-05-20\n",
              "Adj Close   2019-11-26\n",
              "dtype: datetime64[ns]"
            ]
          },
          "metadata": {
            "tags": []
          },
          "execution_count": 36
        }
      ]
    },
    {
      "cell_type": "code",
      "metadata": {
        "colab": {
          "base_uri": "https://localhost:8080/",
          "height": 294
        },
        "id": "CQyH84HVQ-Xb",
        "outputId": "64185574-3b92-4cc8-a912-62b512986aad"
      },
      "source": [
        "tesla['Close'].plot()"
      ],
      "execution_count": null,
      "outputs": [
        {
          "output_type": "execute_result",
          "data": {
            "text/plain": [
              "<matplotlib.axes._subplots.AxesSubplot at 0x7f432f6636d8>"
            ]
          },
          "metadata": {
            "tags": []
          },
          "execution_count": 42
        },
        {
          "output_type": "display_data",
          "data": {
            "image/png": "[encoded data removed]",
            "text/plain": [
              "<Figure size 432x288 with 1 Axes>"
            ]
          },
          "metadata": {
            "tags": [],
            "needs_background": "light"
          }
        }
      ]
    },
    {
      "cell_type": "code",
      "metadata": {
        "colab": {
          "base_uri": "https://localhost:8080/",
          "height": 305
        },
        "id": "-ky5IZ_4RNPa",
        "outputId": "a62c552f-7e1e-46dd-8802-f5cf367150aa"
      },
      "source": [
        "tesla.plot()"
      ],
      "execution_count": null,
      "outputs": [
        {
          "output_type": "execute_result",
          "data": {
            "text/plain": [
              "<matplotlib.axes._subplots.AxesSubplot at 0x7f432fc52668>"
            ]
          },
          "metadata": {
            "tags": []
          },
          "execution_count": 39
        },
        {
          "output_type": "display_data",
          "data": {
            "image/png": "[encoded data removed]",
            "text/plain": [
              "<Figure size 432x288 with 1 Axes>"
            ]
          },
          "metadata": {
            "tags": [],
            "needs_background": "light"
          }
        }
      ]
    },
    {
      "cell_type": "code",
      "metadata": {
        "id": "1-46cwDMRaBG"
      },
      "source": [
        "tickers = ['FB', 'AAPL', 'AMZN', 'NFLX', 'GOOGL']\n",
        "\n",
        "portfolio = data.DataReader(tickers, 'yahoo', start, end)"
      ],
      "execution_count": null,
      "outputs": []
    },
    {
      "cell_type": "code",
      "metadata": {
        "colab": {
          "base_uri": "https://localhost:8080/",
          "height": 555
        },
        "id": "BgqY7JXPSQf5",
        "outputId": "2edcce63-d938-4d2c-c212-19d8e44dc2c7"
      },
      "source": [
        "portfolio_close = portfolio['Close']\n",
        "portfolio_close.plot(xlabel = \"Date\", ylabel = \"Closing price in US$\", title = \"Portfolio\", figsize =(12,9))"
      ],
      "execution_count": null,
      "outputs": [
        {
          "output_type": "execute_result",
          "data": {
            "text/plain": [
              "<matplotlib.axes._subplots.AxesSubplot at 0x7f432f531828>"
            ]
          },
          "metadata": {
            "tags": []
          },
          "execution_count": 55
        },
        {
          "output_type": "display_data",
          "data": {
            "image/png": "[encoded data removed]",
            "text/plain": [
              "<Figure size 864x648 with 1 Axes>"
            ]
          },
          "metadata": {
            "tags": [],
            "needs_background": "light"
          }
        }
      ]
    },
    {
      "cell_type": "code",
      "metadata": {
        "colab": {
          "base_uri": "https://localhost:8080/",
          "height": 450
        },
        "id": "BauwNf8DSgwo",
        "outputId": "ce577189-d47d-40f1-d963-ecb574acd167"
      },
      "source": [
        "portfolio_close.pct_change()"
      ],
      "execution_count": null,
      "outputs": [
        {
          "output_type": "execute_result",
          "data": {
            "text/html": [
              "<div>\n",
              "<style scoped>\n",
              "    .dataframe tbody tr th:only-of-type {\n",
              "        vertical-align: middle;\n",
              "    }\n",
              "\n",
              "    .dataframe tbody tr th {\n",
              "        vertical-align: top;\n",
              "    }\n",
              "\n",
              "    .dataframe thead th {\n",
              "        text-align: right;\n",
              "    }\n",
              "</style>\n",
              "<table border=\"1\" class=\"dataframe\">\n",
              "  <thead>\n",
              "    <tr style=\"text-align: right;\">\n",
              "      <th>Symbols</th>\n",
              "      <th>FB</th>\n",
              "      <th>AAPL</th>\n",
              "      <th>AMZN</th>\n",
              "      <th>NFLX</th>\n",
              "      <th>GOOGL</th>\n",
              "    </tr>\n",
              "    <tr>\n",
              "      <th>Date</th>\n",
              "      <th></th>\n",
              "      <th></th>\n",
              "      <th></th>\n",
              "      <th></th>\n",
              "      <th></th>\n",
              "    </tr>\n",
              "  </thead>\n",
              "  <tbody>\n",
              "    <tr>\n",
              "      <th>2019-11-25</th>\n",
              "      <td>NaN</td>\n",
              "      <td>NaN</td>\n",
              "      <td>NaN</td>\n",
              "      <td>NaN</td>\n",
              "      <td>NaN</td>\n",
              "    </tr>\n",
              "    <tr>\n",
              "      <th>2019-11-26</th>\n",
              "      <td>-0.004104</td>\n",
              "      <td>-0.007809</td>\n",
              "      <td>0.013023</td>\n",
              "      <td>-0.009697</td>\n",
              "      <td>0.005637</td>\n",
              "    </tr>\n",
              "    <tr>\n",
              "      <th>2019-11-27</th>\n",
              "      <td>0.015228</td>\n",
              "      <td>0.013432</td>\n",
              "      <td>0.012004</td>\n",
              "      <td>0.011008</td>\n",
              "      <td>-0.000663</td>\n",
              "    </tr>\n",
              "    <tr>\n",
              "      <th>2019-11-29</th>\n",
              "      <td>-0.001782</td>\n",
              "      <td>-0.002203</td>\n",
              "      <td>-0.009739</td>\n",
              "      <td>-0.004020</td>\n",
              "      <td>-0.006127</td>\n",
              "    </tr>\n",
              "    <tr>\n",
              "      <th>2019-12-02</th>\n",
              "      <td>-0.009621</td>\n",
              "      <td>-0.011562</td>\n",
              "      <td>-0.010662</td>\n",
              "      <td>-0.014841</td>\n",
              "      <td>-0.011679</td>\n",
              "    </tr>\n",
              "    <tr>\n",
              "      <th>...</th>\n",
              "      <td>...</td>\n",
              "      <td>...</td>\n",
              "      <td>...</td>\n",
              "      <td>...</td>\n",
              "      <td>...</td>\n",
              "    </tr>\n",
              "    <tr>\n",
              "      <th>2020-11-18</th>\n",
              "      <td>-0.011018</td>\n",
              "      <td>-0.011391</td>\n",
              "      <td>-0.009631</td>\n",
              "      <td>0.002414</td>\n",
              "      <td>-0.011932</td>\n",
              "    </tr>\n",
              "    <tr>\n",
              "      <th>2020-11-19</th>\n",
              "      <td>0.003567</td>\n",
              "      <td>0.005168</td>\n",
              "      <td>0.003722</td>\n",
              "      <td>0.005978</td>\n",
              "      <td>0.010301</td>\n",
              "    </tr>\n",
              "    <tr>\n",
              "      <th>2020-11-20</th>\n",
              "      <td>-0.011871</td>\n",
              "      <td>-0.010958</td>\n",
              "      <td>-0.005653</td>\n",
              "      <td>0.007366</td>\n",
              "      <td>-0.012618</td>\n",
              "    </tr>\n",
              "    <tr>\n",
              "      <th>2020-11-23</th>\n",
              "      <td>-0.004709</td>\n",
              "      <td>-0.029743</td>\n",
              "      <td>-0.000326</td>\n",
              "      <td>-0.023800</td>\n",
              "      <td>-0.005080</td>\n",
              "    </tr>\n",
              "    <tr>\n",
              "      <th>2020-11-24</th>\n",
              "      <td>0.031628</td>\n",
              "      <td>0.011594</td>\n",
              "      <td>0.006349</td>\n",
              "      <td>0.013134</td>\n",
              "      <td>0.021035</td>\n",
              "    </tr>\n",
              "  </tbody>\n",
              "</table>\n",
              "<p>253 rows × 5 columns</p>\n",
              "</div>"
            ],
            "text/plain": [
              "Symbols           FB      AAPL      AMZN      NFLX     GOOGL\n",
              "Date                                                        \n",
              "2019-11-25       NaN       NaN       NaN       NaN       NaN\n",
              "2019-11-26 -0.004104 -0.007809  0.013023 -0.009697  0.005637\n",
              "2019-11-27  0.015228  0.013432  0.012004  0.011008 -0.000663\n",
              "2019-11-29 -0.001782 -0.002203 -0.009739 -0.004020 -0.006127\n",
              "2019-12-02 -0.009621 -0.011562 -0.010662 -0.014841 -0.011679\n",
              "...              ...       ...       ...       ...       ...\n",
              "2020-11-18 -0.011018 -0.011391 -0.009631  0.002414 -0.011932\n",
              "2020-11-19  0.003567  0.005168  0.003722  0.005978  0.010301\n",
              "2020-11-20 -0.011871 -0.010958 -0.005653  0.007366 -0.012618\n",
              "2020-11-23 -0.004709 -0.029743 -0.000326 -0.023800 -0.005080\n",
              "2020-11-24  0.031628  0.011594  0.006349  0.013134  0.021035\n",
              "\n",
              "[253 rows x 5 columns]"
            ]
          },
          "metadata": {
            "tags": []
          },
          "execution_count": 56
        }
      ]
    },
    {
      "cell_type": "code",
      "metadata": {
        "id": "8cQ4fHaGThms"
      },
      "source": [
        "#portfolio.to_csv(\"myportoflio.csv\")"
      ],
      "execution_count": null,
      "outputs": []
    }
  ]
}