{
  "nbformat": 4,
  "nbformat_minor": 0,
  "metadata": {
    "colab": {
      "name": "4. Visualizing Correlation Table",
      "provenance": [],
      "collapsed_sections": [],
      "authorship_tag": "ABX9TyNv77hIzld5cRnrUuFKtcaM"
    },
    "kernelspec": {
      "name": "python3",
      "display_name": "Python 3"
    }
  },
  "cells": [
    {
      "cell_type": "code",
      "metadata": {
        "colab": {
          "base_uri": "https://localhost:8080/"
        },
        "id": "Aeff1mDAjF0v",
        "outputId": "c559aefd-7324-4ddb-bebf-3c09bbc1bdbc"
      },
      "source": [
        "from google.colab import drive\n",
        "drive.mount('/content/gdrive')"
      ],
      "execution_count": 1,
      "outputs": [
        {
          "output_type": "stream",
          "text": [
            "Mounted at /content/gdrive\n"
          ],
          "name": "stdout"
        }
      ]
    },
    {
      "cell_type": "code",
      "metadata": {
        "id": "CIx-by5bi68Z"
      },
      "source": [
        "import pandas as pd\n",
        "import numpy as np\n",
        "\n",
        "df = pd.read_csv('/content/gdrive/MyDrive/Colab Notebooks/datasets/USMinWage.csv')"
      ],
      "execution_count": 2,
      "outputs": []
    },
    {
      "cell_type": "code",
      "metadata": {
        "id": "ekV4eE2IjGa_"
      },
      "source": [
        "act_min_wage = pd.DataFrame()\n",
        "\n",
        "for state, data in df.groupby('State'):\n",
        "    if act_min_wage.empty:\n",
        "        act_min_wage = data.set_index('Year')[['Low.2018']].rename(columns={'Low.2018':state})\n",
        "    else:\n",
        "        act_min_wage = act_min_wage.join(data.set_index('Year')[['Low.2018']].rename(columns={'Low.2018':state}))\n",
        "\n",
        "\n",
        "min_wage_corr = act_min_wage.replace(0, np.NaN).dropna(axis=1).corr()\n"
      ],
      "execution_count": 6,
      "outputs": []
    },
    {
      "cell_type": "code",
      "metadata": {
        "colab": {
          "base_uri": "https://localhost:8080/",
          "height": 258
        },
        "id": "TS9IO40ejGeY",
        "outputId": "57b69903-fb0c-4018-b609-baee5008b9db"
      },
      "source": [
        "min_wage_corr.head()"
      ],
      "execution_count": 8,
      "outputs": [
        {
          "output_type": "execute_result",
          "data": {
            "text/html": [
              "<div>\n",
              "<style scoped>\n",
              "    .dataframe tbody tr th:only-of-type {\n",
              "        vertical-align: middle;\n",
              "    }\n",
              "\n",
              "    .dataframe tbody tr th {\n",
              "        vertical-align: top;\n",
              "    }\n",
              "\n",
              "    .dataframe thead th {\n",
              "        text-align: right;\n",
              "    }\n",
              "</style>\n",
              "<table border=\"1\" class=\"dataframe\">\n",
              "  <thead>\n",
              "    <tr style=\"text-align: right;\">\n",
              "      <th></th>\n",
              "      <th>Alaska</th>\n",
              "      <th>Arkansas</th>\n",
              "      <th>California</th>\n",
              "      <th>Colorado</th>\n",
              "      <th>Connecticut</th>\n",
              "      <th>Delaware</th>\n",
              "      <th>District of Columbia</th>\n",
              "      <th>Federal (FLSA)</th>\n",
              "      <th>Guam</th>\n",
              "      <th>Hawaii</th>\n",
              "      <th>Idaho</th>\n",
              "      <th>Indiana</th>\n",
              "      <th>Kentucky</th>\n",
              "      <th>Maine</th>\n",
              "      <th>Maryland</th>\n",
              "      <th>Massachusetts</th>\n",
              "      <th>Michigan</th>\n",
              "      <th>Minnesota</th>\n",
              "      <th>Nebraska</th>\n",
              "      <th>Nevada</th>\n",
              "      <th>New Hampshire</th>\n",
              "      <th>New Jersey</th>\n",
              "      <th>New Mexico</th>\n",
              "      <th>New York</th>\n",
              "      <th>North Carolina</th>\n",
              "      <th>North Dakota</th>\n",
              "      <th>Ohio</th>\n",
              "      <th>Oklahoma</th>\n",
              "      <th>Oregon</th>\n",
              "      <th>Pennsylvania</th>\n",
              "      <th>Puerto Rico</th>\n",
              "      <th>Rhode Island</th>\n",
              "      <th>South Dakota</th>\n",
              "      <th>Utah</th>\n",
              "      <th>Vermont</th>\n",
              "      <th>Washington</th>\n",
              "      <th>West Virginia</th>\n",
              "      <th>Wisconsin</th>\n",
              "      <th>Wyoming</th>\n",
              "    </tr>\n",
              "  </thead>\n",
              "  <tbody>\n",
              "    <tr>\n",
              "      <th>Alaska</th>\n",
              "      <td>1.000000</td>\n",
              "      <td>-0.377934</td>\n",
              "      <td>0.717653</td>\n",
              "      <td>-0.129332</td>\n",
              "      <td>0.680886</td>\n",
              "      <td>0.258997</td>\n",
              "      <td>0.321785</td>\n",
              "      <td>0.637679</td>\n",
              "      <td>0.787915</td>\n",
              "      <td>0.672620</td>\n",
              "      <td>0.371515</td>\n",
              "      <td>0.352950</td>\n",
              "      <td>-0.569134</td>\n",
              "      <td>0.784052</td>\n",
              "      <td>0.487056</td>\n",
              "      <td>0.726248</td>\n",
              "      <td>0.606292</td>\n",
              "      <td>-0.384472</td>\n",
              "      <td>-0.142350</td>\n",
              "      <td>0.713637</td>\n",
              "      <td>0.817509</td>\n",
              "      <td>0.726091</td>\n",
              "      <td>0.521504</td>\n",
              "      <td>0.881634</td>\n",
              "      <td>0.454404</td>\n",
              "      <td>-0.002899</td>\n",
              "      <td>-0.181850</td>\n",
              "      <td>0.308927</td>\n",
              "      <td>-0.008462</td>\n",
              "      <td>0.610814</td>\n",
              "      <td>-0.038118</td>\n",
              "      <td>0.652353</td>\n",
              "      <td>-0.326316</td>\n",
              "      <td>-0.020462</td>\n",
              "      <td>0.663558</td>\n",
              "      <td>0.411593</td>\n",
              "      <td>0.044814</td>\n",
              "      <td>0.702570</td>\n",
              "      <td>0.727932</td>\n",
              "    </tr>\n",
              "    <tr>\n",
              "      <th>Arkansas</th>\n",
              "      <td>-0.377934</td>\n",
              "      <td>1.000000</td>\n",
              "      <td>-0.234367</td>\n",
              "      <td>0.135749</td>\n",
              "      <td>0.047580</td>\n",
              "      <td>0.016125</td>\n",
              "      <td>0.266889</td>\n",
              "      <td>0.117245</td>\n",
              "      <td>0.039593</td>\n",
              "      <td>0.204801</td>\n",
              "      <td>-0.006833</td>\n",
              "      <td>-0.116454</td>\n",
              "      <td>0.427054</td>\n",
              "      <td>-0.059840</td>\n",
              "      <td>0.443650</td>\n",
              "      <td>-0.136325</td>\n",
              "      <td>0.113882</td>\n",
              "      <td>0.452996</td>\n",
              "      <td>0.180337</td>\n",
              "      <td>-0.005549</td>\n",
              "      <td>-0.192707</td>\n",
              "      <td>-0.093417</td>\n",
              "      <td>0.042759</td>\n",
              "      <td>-0.236279</td>\n",
              "      <td>0.413676</td>\n",
              "      <td>0.304853</td>\n",
              "      <td>0.296669</td>\n",
              "      <td>-0.212602</td>\n",
              "      <td>0.274903</td>\n",
              "      <td>0.159923</td>\n",
              "      <td>0.232186</td>\n",
              "      <td>0.003498</td>\n",
              "      <td>0.800116</td>\n",
              "      <td>0.194680</td>\n",
              "      <td>0.087429</td>\n",
              "      <td>-0.072343</td>\n",
              "      <td>0.420819</td>\n",
              "      <td>0.000470</td>\n",
              "      <td>-0.250592</td>\n",
              "    </tr>\n",
              "    <tr>\n",
              "      <th>California</th>\n",
              "      <td>0.717653</td>\n",
              "      <td>-0.234367</td>\n",
              "      <td>1.000000</td>\n",
              "      <td>0.483313</td>\n",
              "      <td>0.876215</td>\n",
              "      <td>0.479197</td>\n",
              "      <td>0.596865</td>\n",
              "      <td>0.371966</td>\n",
              "      <td>0.492052</td>\n",
              "      <td>0.519241</td>\n",
              "      <td>0.623225</td>\n",
              "      <td>0.793831</td>\n",
              "      <td>-0.152946</td>\n",
              "      <td>0.716943</td>\n",
              "      <td>0.377899</td>\n",
              "      <td>0.942760</td>\n",
              "      <td>0.654850</td>\n",
              "      <td>-0.318507</td>\n",
              "      <td>0.232873</td>\n",
              "      <td>0.537317</td>\n",
              "      <td>0.559870</td>\n",
              "      <td>0.643447</td>\n",
              "      <td>0.538274</td>\n",
              "      <td>0.763132</td>\n",
              "      <td>0.450594</td>\n",
              "      <td>0.204418</td>\n",
              "      <td>0.072433</td>\n",
              "      <td>-0.315364</td>\n",
              "      <td>0.439329</td>\n",
              "      <td>0.429061</td>\n",
              "      <td>0.512712</td>\n",
              "      <td>0.780916</td>\n",
              "      <td>-0.036787</td>\n",
              "      <td>0.392898</td>\n",
              "      <td>0.877922</td>\n",
              "      <td>0.754085</td>\n",
              "      <td>0.371765</td>\n",
              "      <td>0.584067</td>\n",
              "      <td>0.722617</td>\n",
              "    </tr>\n",
              "    <tr>\n",
              "      <th>Colorado</th>\n",
              "      <td>-0.129332</td>\n",
              "      <td>0.135749</td>\n",
              "      <td>0.483313</td>\n",
              "      <td>1.000000</td>\n",
              "      <td>0.402020</td>\n",
              "      <td>0.566304</td>\n",
              "      <td>0.673371</td>\n",
              "      <td>-0.232035</td>\n",
              "      <td>-0.192616</td>\n",
              "      <td>0.069800</td>\n",
              "      <td>0.521063</td>\n",
              "      <td>0.665580</td>\n",
              "      <td>0.497117</td>\n",
              "      <td>0.100846</td>\n",
              "      <td>-0.044345</td>\n",
              "      <td>0.469242</td>\n",
              "      <td>0.184005</td>\n",
              "      <td>-0.070367</td>\n",
              "      <td>0.736112</td>\n",
              "      <td>0.085357</td>\n",
              "      <td>-0.147020</td>\n",
              "      <td>0.045434</td>\n",
              "      <td>0.213957</td>\n",
              "      <td>0.002463</td>\n",
              "      <td>0.212403</td>\n",
              "      <td>0.314025</td>\n",
              "      <td>0.380842</td>\n",
              "      <td>-0.751726</td>\n",
              "      <td>0.648864</td>\n",
              "      <td>-0.136195</td>\n",
              "      <td>0.657364</td>\n",
              "      <td>0.429852</td>\n",
              "      <td>0.399137</td>\n",
              "      <td>0.622330</td>\n",
              "      <td>0.448485</td>\n",
              "      <td>0.612637</td>\n",
              "      <td>0.533623</td>\n",
              "      <td>0.011501</td>\n",
              "      <td>0.130053</td>\n",
              "    </tr>\n",
              "    <tr>\n",
              "      <th>Connecticut</th>\n",
              "      <td>0.680886</td>\n",
              "      <td>0.047580</td>\n",
              "      <td>0.876215</td>\n",
              "      <td>0.402020</td>\n",
              "      <td>1.000000</td>\n",
              "      <td>0.552613</td>\n",
              "      <td>0.652488</td>\n",
              "      <td>0.487750</td>\n",
              "      <td>0.632073</td>\n",
              "      <td>0.621503</td>\n",
              "      <td>0.563913</td>\n",
              "      <td>0.731378</td>\n",
              "      <td>-0.179488</td>\n",
              "      <td>0.666562</td>\n",
              "      <td>0.553702</td>\n",
              "      <td>0.905269</td>\n",
              "      <td>0.747738</td>\n",
              "      <td>-0.357928</td>\n",
              "      <td>0.185571</td>\n",
              "      <td>0.632557</td>\n",
              "      <td>0.544013</td>\n",
              "      <td>0.529780</td>\n",
              "      <td>0.532646</td>\n",
              "      <td>0.776332</td>\n",
              "      <td>0.629509</td>\n",
              "      <td>0.114565</td>\n",
              "      <td>-0.047880</td>\n",
              "      <td>-0.332086</td>\n",
              "      <td>0.378981</td>\n",
              "      <td>0.531769</td>\n",
              "      <td>0.626712</td>\n",
              "      <td>0.802485</td>\n",
              "      <td>0.105707</td>\n",
              "      <td>0.302538</td>\n",
              "      <td>0.898469</td>\n",
              "      <td>0.715691</td>\n",
              "      <td>0.400099</td>\n",
              "      <td>0.585790</td>\n",
              "      <td>0.814971</td>\n",
              "    </tr>\n",
              "  </tbody>\n",
              "</table>\n",
              "</div>"
            ],
            "text/plain": [
              "               Alaska  Arkansas  California  ...  West Virginia  Wisconsin   Wyoming\n",
              "Alaska       1.000000 -0.377934    0.717653  ...       0.044814   0.702570  0.727932\n",
              "Arkansas    -0.377934  1.000000   -0.234367  ...       0.420819   0.000470 -0.250592\n",
              "California   0.717653 -0.234367    1.000000  ...       0.371765   0.584067  0.722617\n",
              "Colorado    -0.129332  0.135749    0.483313  ...       0.533623   0.011501  0.130053\n",
              "Connecticut  0.680886  0.047580    0.876215  ...       0.400099   0.585790  0.814971\n",
              "\n",
              "[5 rows x 39 columns]"
            ]
          },
          "metadata": {
            "tags": []
          },
          "execution_count": 8
        }
      ]
    },
    {
      "cell_type": "code",
      "metadata": {
        "colab": {
          "base_uri": "https://localhost:8080/",
          "height": 292
        },
        "id": "ayQdkC1elAjl",
        "outputId": "94120e5c-3584-463a-b41f-c4b73f40aacf"
      },
      "source": [
        "import matplotlib.pyplot as plt\n",
        "\n",
        "plt.matshow(min_wage_corr)"
      ],
      "execution_count": 9,
      "outputs": [
        {
          "output_type": "execute_result",
          "data": {
            "text/plain": [
              "<matplotlib.image.AxesImage at 0x7f0714799b38>"
            ]
          },
          "metadata": {
            "tags": []
          },
          "execution_count": 9
        },
        {
          "output_type": "display_data",
          "data": {
            "image/png": "[encoded data removed]",
            "text/plain": [
              "<Figure size 288x288 with 1 Axes>"
            ]
          },
          "metadata": {
            "tags": [],
            "needs_background": "light"
          }
        }
      ]
    },
    {
      "cell_type": "code",
      "metadata": {
        "colab": {
          "base_uri": "https://localhost:8080/",
          "height": 704
        },
        "id": "nyqBuV_wlNzk",
        "outputId": "007a683d-c5da-4f46-9e3e-4aadd0579ee1"
      },
      "source": [
        "labels = [c[:2] for c in min_wage_corr.columns]\n",
        "\n",
        "fig = plt.figure(figsize=(12,12))\n",
        "\n",
        "ax = fig.add_subplot(111)    #1X1 grid, number 1 figure\n",
        "\n",
        "ax.matshow(min_wage_corr, cmap = plt.cm.RdYlGn)\n",
        "\n",
        "ax.set_xticks(np.arange(len(labels)))\n",
        "ax.set_yticks(np.arange(len(labels)))\n",
        "ax.set_yticklabels(labels)\n",
        "ax.set_xticklabels(labels)\n",
        "\n",
        "\n",
        "plt.show()"
      ],
      "execution_count": 15,
      "outputs": [
        {
          "output_type": "display_data",
          "data": {
            "image/png": "[encoded data removed]",
            "text/plain": [
              "<Figure size 864x864 with 1 Axes>"
            ]
          },
          "metadata": {
            "tags": [],
            "needs_background": "light"
          }
        }
      ]
    },
    {
      "cell_type": "code",
      "metadata": {
        "id": "Ela6k9rnlk2r"
      },
      "source": [
        "import requests\n",
        "\n",
        "web = requests.get(\"https://www.infoplease.com/state-abbreviations-and-state-postal-codes\")\n",
        "dfs = pd.read_html(web.text)"
      ],
      "execution_count": 16,
      "outputs": []
    },
    {
      "cell_type": "code",
      "metadata": {
        "colab": {
          "base_uri": "https://localhost:8080/"
        },
        "id": "S9fDMyY0npob",
        "outputId": "2710b306-f3b1-4388-878f-132029c3b79a"
      },
      "source": [
        "dfs = pd.read_html(\"https://www.infoplease.com/state-abbreviations-and-state-postal-codes\")\n",
        "dfs"
      ],
      "execution_count": 19,
      "outputs": [
        {
          "output_type": "execute_result",
          "data": {
            "text/plain": [
              "[          State/District Abbreviation Postal Code\n",
              " 0                Alabama         Ala.          AL\n",
              " 1                 Alaska       Alaska          AK\n",
              " 2                Arizona        Ariz.          AZ\n",
              " 3               Arkansas         Ark.          AR\n",
              " 4             California       Calif.          CA\n",
              " 5               Colorado        Colo.          CO\n",
              " 6            Connecticut        Conn.          CT\n",
              " 7               Delaware         Del.          DE\n",
              " 8   District of Columbia         D.C.          DC\n",
              " 9                Florida         Fla.          FL\n",
              " 10               Georgia          Ga.          GA\n",
              " 11                Hawaii       Hawaii          HI\n",
              " 12                 Idaho        Idaho          ID\n",
              " 13              Illinois         Ill.          IL\n",
              " 14               Indiana         Ind.          IN\n",
              " 15                  Iowa         Iowa          IA\n",
              " 16                Kansas        Kans.          KS\n",
              " 17              Kentucky          Ky.          KY\n",
              " 18             Louisiana          La.          LA\n",
              " 19                 Maine        Maine          ME\n",
              " 20              Maryland          Md.          MD\n",
              " 21         Massachusetts        Mass.          MA\n",
              " 22              Michigan        Mich.          MI\n",
              " 23             Minnesota        Minn.          MN\n",
              " 24           Mississippi        Miss.          MS\n",
              " 25              Missouri          Mo.          MO\n",
              " 26               Montana        Mont.          MT\n",
              " 27              Nebraska        Nebr.          NE\n",
              " 28                Nevada         Nev.          NV\n",
              " 29         New Hampshire         N.H.          NH\n",
              " 30            New Jersey         N.J.          NJ\n",
              " 31            New Mexico         N.M.          NM\n",
              " 32              New York         N.Y.          NY\n",
              " 33        North Carolina         N.C.          NC\n",
              " 34          North Dakota         N.D.          ND\n",
              " 35                  Ohio         Ohio          OH\n",
              " 36              Oklahoma        Okla.          OK\n",
              " 37                Oregon         Ore.          OR\n",
              " 38          Pennsylvania          Pa.          PA\n",
              " 39          Rhode Island         R.I.          RI\n",
              " 40        South Carolina         S.C.          SC\n",
              " 41          South Dakota         S.D.          SD\n",
              " 42             Tennessee        Tenn.          TN\n",
              " 43                 Texas         Tex.          TX\n",
              " 44                  Utah         Utah          UT\n",
              " 45               Vermont          Vt.          VT\n",
              " 46              Virginia          Va.          VA\n",
              " 47            Washington        Wash.          WA\n",
              " 48         West Virginia        W.Va.          WV\n",
              " 49             Wisconsin         Wis.          WI\n",
              " 50               Wyoming         Wyo.          WY,\n",
              "   Territory/Associate Abbreviation Postal Code\n",
              " 0      American Samoa            Â          AS\n",
              " 1                Guam         Guam          GU\n",
              " 2    Marshall Islands            Â          MH\n",
              " 3          Micronesia            Â          FM\n",
              " 4   Northern Marianas            Â          MP\n",
              " 5               Palau            Â          PW\n",
              " 6         Puerto Rico         P.R.          PR\n",
              " 7      Virgin Islands            Â          VI]"
            ]
          },
          "metadata": {
            "tags": []
          },
          "execution_count": 19
        }
      ]
    },
    {
      "cell_type": "code",
      "metadata": {
        "colab": {
          "base_uri": "https://localhost:8080/",
          "height": 204
        },
        "id": "ne13MCyMnrhm",
        "outputId": "accc652f-f5a5-4a38-b889-873697111e12"
      },
      "source": [
        "state_abbrev = dfs[0]\n",
        "\n",
        "state_abbrev.head()"
      ],
      "execution_count": 21,
      "outputs": [
        {
          "output_type": "execute_result",
          "data": {
            "text/html": [
              "<div>\n",
              "<style scoped>\n",
              "    .dataframe tbody tr th:only-of-type {\n",
              "        vertical-align: middle;\n",
              "    }\n",
              "\n",
              "    .dataframe tbody tr th {\n",
              "        vertical-align: top;\n",
              "    }\n",
              "\n",
              "    .dataframe thead th {\n",
              "        text-align: right;\n",
              "    }\n",
              "</style>\n",
              "<table border=\"1\" class=\"dataframe\">\n",
              "  <thead>\n",
              "    <tr style=\"text-align: right;\">\n",
              "      <th></th>\n",
              "      <th>State/District</th>\n",
              "      <th>Abbreviation</th>\n",
              "      <th>Postal Code</th>\n",
              "    </tr>\n",
              "  </thead>\n",
              "  <tbody>\n",
              "    <tr>\n",
              "      <th>0</th>\n",
              "      <td>Alabama</td>\n",
              "      <td>Ala.</td>\n",
              "      <td>AL</td>\n",
              "    </tr>\n",
              "    <tr>\n",
              "      <th>1</th>\n",
              "      <td>Alaska</td>\n",
              "      <td>Alaska</td>\n",
              "      <td>AK</td>\n",
              "    </tr>\n",
              "    <tr>\n",
              "      <th>2</th>\n",
              "      <td>Arizona</td>\n",
              "      <td>Ariz.</td>\n",
              "      <td>AZ</td>\n",
              "    </tr>\n",
              "    <tr>\n",
              "      <th>3</th>\n",
              "      <td>Arkansas</td>\n",
              "      <td>Ark.</td>\n",
              "      <td>AR</td>\n",
              "    </tr>\n",
              "    <tr>\n",
              "      <th>4</th>\n",
              "      <td>California</td>\n",
              "      <td>Calif.</td>\n",
              "      <td>CA</td>\n",
              "    </tr>\n",
              "  </tbody>\n",
              "</table>\n",
              "</div>"
            ],
            "text/plain": [
              "  State/District Abbreviation Postal Code\n",
              "0        Alabama         Ala.          AL\n",
              "1         Alaska       Alaska          AK\n",
              "2        Arizona        Ariz.          AZ\n",
              "3       Arkansas         Ark.          AR\n",
              "4     California       Calif.          CA"
            ]
          },
          "metadata": {
            "tags": []
          },
          "execution_count": 21
        }
      ]
    },
    {
      "cell_type": "code",
      "metadata": {
        "id": "RbgQLcN2oMQD"
      },
      "source": [
        "state_abbrev.to_csv('/content/gdrive/MyDrive/Colab Notebooks/datasets/state_abbrev.csv')"
      ],
      "execution_count": 23,
      "outputs": []
    },
    {
      "cell_type": "code",
      "metadata": {
        "id": "3jBGrn9zobxl"
      },
      "source": [
        "state_abbrev[[\"State/District\", 'Postal Code']].to_csv('/content/gdrive/MyDrive/Colab Notebooks/datasets/state_abbrev.csv', index=False)\n",
        "\n",
        "# Cause index is worthless in this case"
      ],
      "execution_count": 25,
      "outputs": []
    },
    {
      "cell_type": "code",
      "metadata": {
        "colab": {
          "base_uri": "https://localhost:8080/",
          "height": 235
        },
        "id": "dCqQWf04pOSZ",
        "outputId": "0cb8a59a-863a-4515-c20e-00519c0a87cf"
      },
      "source": [
        "df_state_abbrev = pd.read_csv('/content/gdrive/MyDrive/Colab Notebooks/datasets/state_abbrev.csv', index_col=0)\n",
        "df_state_abbrev.head()"
      ],
      "execution_count": 30,
      "outputs": [
        {
          "output_type": "execute_result",
          "data": {
            "text/html": [
              "<div>\n",
              "<style scoped>\n",
              "    .dataframe tbody tr th:only-of-type {\n",
              "        vertical-align: middle;\n",
              "    }\n",
              "\n",
              "    .dataframe tbody tr th {\n",
              "        vertical-align: top;\n",
              "    }\n",
              "\n",
              "    .dataframe thead th {\n",
              "        text-align: right;\n",
              "    }\n",
              "</style>\n",
              "<table border=\"1\" class=\"dataframe\">\n",
              "  <thead>\n",
              "    <tr style=\"text-align: right;\">\n",
              "      <th></th>\n",
              "      <th>Postal Code</th>\n",
              "    </tr>\n",
              "    <tr>\n",
              "      <th>State/District</th>\n",
              "      <th></th>\n",
              "    </tr>\n",
              "  </thead>\n",
              "  <tbody>\n",
              "    <tr>\n",
              "      <th>Alabama</th>\n",
              "      <td>AL</td>\n",
              "    </tr>\n",
              "    <tr>\n",
              "      <th>Alaska</th>\n",
              "      <td>AK</td>\n",
              "    </tr>\n",
              "    <tr>\n",
              "      <th>Arizona</th>\n",
              "      <td>AZ</td>\n",
              "    </tr>\n",
              "    <tr>\n",
              "      <th>Arkansas</th>\n",
              "      <td>AR</td>\n",
              "    </tr>\n",
              "    <tr>\n",
              "      <th>California</th>\n",
              "      <td>CA</td>\n",
              "    </tr>\n",
              "  </tbody>\n",
              "</table>\n",
              "</div>"
            ],
            "text/plain": [
              "               Postal Code\n",
              "State/District            \n",
              "Alabama                 AL\n",
              "Alaska                  AK\n",
              "Arizona                 AZ\n",
              "Arkansas                AR\n",
              "California              CA"
            ]
          },
          "metadata": {
            "tags": []
          },
          "execution_count": 30
        }
      ]
    },
    {
      "cell_type": "code",
      "metadata": {
        "id": "B2vX1PCYpXWP"
      },
      "source": [
        "abbv_dict = df_state_abbrev.to_dict()\n",
        "\n",
        "abbv_dict"
      ],
      "execution_count": null,
      "outputs": []
    },
    {
      "cell_type": "markdown",
      "metadata": {
        "id": "cGHnVk5pqCs3"
      },
      "source": [
        "Since its a dictionary of dictionary we want, we can map the required dictionaries to what we want"
      ]
    },
    {
      "cell_type": "code",
      "metadata": {
        "id": "YeQkl20Tp2Vw"
      },
      "source": [
        "abbv_dict = abbv_dict[\"Postal Code\"]"
      ],
      "execution_count": 33,
      "outputs": []
    },
    {
      "cell_type": "code",
      "metadata": {
        "id": "Vv1XJ26xqN2v"
      },
      "source": [
        "abbv_dict.update({'Guam': 'GU', 'Puerto Rico': 'PU', 'Federal (FLSA)': 'FLSA'})"
      ],
      "execution_count": 37,
      "outputs": []
    },
    {
      "cell_type": "code",
      "metadata": {
        "colab": {
          "base_uri": "https://localhost:8080/"
        },
        "id": "60ZaYp43q8bE",
        "outputId": "95ebf520-a0e8-473e-8d2a-c5643a629aef"
      },
      "source": [
        "abbv_dict"
      ],
      "execution_count": 38,
      "outputs": [
        {
          "output_type": "execute_result",
          "data": {
            "text/plain": [
              "{'Alabama': 'AL',\n",
              " 'Alaska': 'AK',\n",
              " 'Arizona': 'AZ',\n",
              " 'Arkansas': 'AR',\n",
              " 'California': 'CA',\n",
              " 'Colorado': 'CO',\n",
              " 'Connecticut': 'CT',\n",
              " 'Delaware': 'DE',\n",
              " 'District of Columbia': 'DC',\n",
              " 'Federal (FLSA)': 'FLSA',\n",
              " 'Florida': 'FL',\n",
              " 'Georgia': 'GA',\n",
              " 'Guam': 'GU',\n",
              " 'Hawaii': 'HI',\n",
              " 'Idaho': 'ID',\n",
              " 'Illinois': 'IL',\n",
              " 'Indiana': 'IN',\n",
              " 'Iowa': 'IA',\n",
              " 'Kansas': 'KS',\n",
              " 'Kentucky': 'KY',\n",
              " 'Louisiana': 'LA',\n",
              " 'Maine': 'ME',\n",
              " 'Maryland': 'MD',\n",
              " 'Massachusetts': 'MA',\n",
              " 'Michigan': 'MI',\n",
              " 'Minnesota': 'MN',\n",
              " 'Mississippi': 'MS',\n",
              " 'Missouri': 'MO',\n",
              " 'Montana': 'MT',\n",
              " 'Nebraska': 'NE',\n",
              " 'Nevada': 'NV',\n",
              " 'New Hampshire': 'NH',\n",
              " 'New Jersey': 'NJ',\n",
              " 'New Mexico': 'NM',\n",
              " 'New York': 'NY',\n",
              " 'North Carolina': 'NC',\n",
              " 'North Dakota': 'ND',\n",
              " 'Ohio': 'OH',\n",
              " 'Oklahoma': 'OK',\n",
              " 'Oregon': 'OR',\n",
              " 'Pennsylvania': 'PA',\n",
              " 'Puerto Rico': 'PU',\n",
              " 'Rhode Island': 'RI',\n",
              " 'South Carolina': 'SC',\n",
              " 'South Dakota': 'SD',\n",
              " 'Tennessee': 'TN',\n",
              " 'Texas': 'TX',\n",
              " 'Utah': 'UT',\n",
              " 'Vermont': 'VT',\n",
              " 'Virginia': 'VA',\n",
              " 'Washington': 'WA',\n",
              " 'West Virginia': 'WV',\n",
              " 'Wisconsin': 'WI',\n",
              " 'Wyoming': 'WY'}"
            ]
          },
          "metadata": {
            "tags": []
          },
          "execution_count": 38
        }
      ]
    },
    {
      "cell_type": "code",
      "metadata": {
        "id": "Zdt2J65Vq-M1"
      },
      "source": [
        "labels = [abbv_dict[c] for c in min_wage_corr.columns]"
      ],
      "execution_count": 39,
      "outputs": []
    },
    {
      "cell_type": "code",
      "metadata": {
        "colab": {
          "base_uri": "https://localhost:8080/",
          "height": 704
        },
        "id": "LcpD5rxBrWG-",
        "outputId": "47862b29-9d67-4593-9cd9-5233bfb66d90"
      },
      "source": [
        "fig = plt.figure(figsize=(12,12))\n",
        "\n",
        "ax = fig.add_subplot(111)\n",
        "\n",
        "ax.matshow(min_wage_corr, cmap=plt.cm.RdYlGn)\n",
        "\n",
        "ax.set_yticks(np.arange(len(labels)))\n",
        "ax.set_xticks(np.arange(len(labels)))\n",
        "\n",
        "ax.set_xticklabels(labels)\n",
        "ax.set_yticklabels(labels)\n",
        "\n",
        "plt.show()"
      ],
      "execution_count": 42,
      "outputs": [
        {
          "output_type": "display_data",
          "data": {
            "image/png": "[encoded data removed]",
            "text/plain": [
              "<Figure size 864x864 with 1 Axes>"
            ]
          },
          "metadata": {
            "tags": [],
            "needs_background": "light"
          }
        }
      ]
    },
    {
      "cell_type": "markdown",
      "metadata": {
        "id": "Xi-uw-CGtb6w"
      },
      "source": [
        "Here we learned how to combine datas from different datasets to use it for our labels in the matplotlib show"
      ]
    },
    {
      "cell_type": "code",
      "metadata": {
        "id": "IWwiONBVtown"
      },
      "source": [
        ""
      ],
      "execution_count": null,
      "outputs": []
    }
  ]
}